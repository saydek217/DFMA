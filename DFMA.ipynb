{
 "cells": [
  {
   "cell_type": "code",
   "execution_count": null,
   "id": "1c3972be-9fa3-4317-959b-e3177d396c30",
   "metadata": {},
   "outputs": [],
   "source": [
    "import torch\n",
    "from ultralytics import YOLO\n",
    "\n",
    "# 1. Load your model + pretrained weights\n",
    "model = YOLO('DFMA.yaml')\n",
    "model.train(\n",
    "    data=\"./astro.yaml\",\n",
    "    epochs=600,\n",
    "    imgsz=640,\n",
    "    batch=64,\n",
    "    device=\"cuda\",\n",
    "    optimizer='SGD',        # SGD is optimal for fine-tuning\n",
    "    lr0=5e-3,                 # initial LR\n",
    "    lrf=5e-5,                 # final LR (linear decay)\n",
    "    momentum=0.937,\n",
    "    weight_decay=5e-4,        # weight decay\n",
    "    close_mosaic=10,\n",
    "    mosaic=1.0,\n",
    "    copy_paste=0.1,\n",
    "    mixup=0.0,\n",
    "    resume=False,\n",
    "    cos_lr=False,\n",
    "    warmup_epochs=3,          # warm‐up epochs\n",
    "    warmup_momentum=0.8,      # warm‐up momentum\n",
    "    warmup_bias_lr=0.0,       # warm‐up bias LR\n",
    ")"
   ]
  },
  {
   "cell_type": "code",
   "execution_count": null,
   "id": "84a22c25-adab-4879-8224-14056f8d0a12",
   "metadata": {},
   "outputs": [],
   "source": [
    "\n"
   ]
  },
  {
   "cell_type": "code",
   "execution_count": null,
   "id": "2a0ac5cf-0f03-42b9-a01f-17d866738f1a",
   "metadata": {},
   "outputs": [],
   "source": []
  },
  {
   "cell_type": "code",
   "execution_count": null,
   "id": "0cd05b18-38e6-4295-a813-376b1ecb7f87",
   "metadata": {},
   "outputs": [],
   "source": []
  },
  {
   "cell_type": "code",
   "execution_count": null,
   "id": "3fc908b6-fd87-4722-96c8-b7c68856a65f",
   "metadata": {},
   "outputs": [],
   "source": []
  },
  {
   "cell_type": "code",
   "execution_count": null,
   "id": "7ea9520a-8e15-42ac-b159-0fbf77b93c1d",
   "metadata": {},
   "outputs": [],
   "source": []
  }
 ],
 "metadata": {
  "kernelspec": {
   "display_name": "custom",
   "language": "python",
   "name": "custom"
  },
  "language_info": {
   "codemirror_mode": {
    "name": "ipython",
    "version": 3
   },
   "file_extension": ".py",
   "mimetype": "text/x-python",
   "name": "python",
   "nbconvert_exporter": "python",
   "pygments_lexer": "ipython3",
   "version": "3.11.5"
  }
 },
 "nbformat": 4,
 "nbformat_minor": 5
}
